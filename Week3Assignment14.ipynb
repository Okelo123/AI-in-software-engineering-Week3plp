{
  "nbformat": 4,
  "nbformat_minor": 0,
  "metadata": {
    "colab": {
      "provenance": [],
      "include_colab_link": true
    },
    "kernelspec": {
      "name": "python3",
      "display_name": "Python 3"
    },
    "language_info": {
      "name": "python"
    }
  },
  "cells": [
    {
      "cell_type": "markdown",
      "metadata": {
        "id": "view-in-github",
        "colab_type": "text"
      },
      "source": [
        "<a href=\"https://colab.research.google.com/github/Okelo123/AI-in-software-engineering-Week3plp/blob/main/Week3Assignment14.ipynb\" target=\"_parent\"><img src=\"https://colab.research.google.com/assets/colab-badge.svg\" alt=\"Open In Colab\"/></a>"
      ]
    },
    {
      "cell_type": "code",
      "execution_count": null,
      "metadata": {
        "colab": {
          "base_uri": "https://localhost:8080/"
        },
        "id": "k0QYF-OVRQLA",
        "outputId": "4e13324c-15f4-4144-b36e-437a9ef7590e"
      },
      "outputs": [
        {
          "output_type": "stream",
          "name": "stdout",
          "text": [
            "=== Scikit-learn ===\n",
            "Accuracy: 1.0\n",
            "Precision: 1.0\n",
            "Recall: 1.0\n",
            "\n",
            "=== TensorFlow ===\n"
          ]
        },
        {
          "output_type": "stream",
          "name": "stderr",
          "text": [
            "/usr/local/lib/python3.11/dist-packages/keras/src/layers/core/dense.py:87: UserWarning: Do not pass an `input_shape`/`input_dim` argument to a layer. When using Sequential models, prefer using an `Input(shape)` object as the first layer in the model instead.\n",
            "  super().__init__(activity_regularizer=activity_regularizer, **kwargs)\n"
          ]
        },
        {
          "output_type": "stream",
          "name": "stdout",
          "text": [
            "\u001b[1m1/1\u001b[0m \u001b[32m━━━━━━━━━━━━━━━━━━━━\u001b[0m\u001b[37m\u001b[0m \u001b[1m0s\u001b[0m 63ms/step\n",
            "Accuracy: 0.5666666666666667\n",
            "Precision: 0.5818713450292398\n",
            "Recall: 0.5370370370370371\n",
            "\n",
            "=== PyTorch ===\n",
            "Accuracy: 1.0\n",
            "Precision: 1.0\n",
            "Recall: 1.0\n"
          ]
        }
      ],
      "source": [
        "# ================================\n",
        "# 📊 Iris Species Classification\n",
        "# Classical ML (Scikit-learn, TensorFlow, PyTorch)\n",
        "# ================================\n",
        "\n",
        "# 🔧 Install PyTorch if not available (Colab usually has it)\n",
        "# !pip install torch torchvision --quiet\n",
        "\n",
        "# ================================\n",
        "# 1️⃣ Scikit-learn - Decision Tree Classifier\n",
        "# ================================\n",
        "print(\"=== Scikit-learn ===\")\n",
        "\n",
        "from sklearn.datasets import load_iris\n",
        "from sklearn.model_selection import train_test_split\n",
        "from sklearn.preprocessing import LabelEncoder\n",
        "from sklearn.tree import DecisionTreeClassifier\n",
        "from sklearn.metrics import accuracy_score, precision_score, recall_score\n",
        "import pandas as pd\n",
        "import numpy as np\n",
        "\n",
        "iris = load_iris()\n",
        "X = pd.DataFrame(iris.data, columns=iris.feature_names)\n",
        "y = pd.Series(iris.target)\n",
        "\n",
        "# Handle missing values\n",
        "X.fillna(X.mean(), inplace=True)\n",
        "\n",
        "# Encode labels\n",
        "label_encoder = LabelEncoder()\n",
        "y_encoded = label_encoder.fit_transform(y)\n",
        "\n",
        "# Train-test split\n",
        "X_train, X_test, y_train, y_test = train_test_split(X, y_encoded, test_size=0.2, random_state=42)\n",
        "\n",
        "# Train model\n",
        "clf = DecisionTreeClassifier(random_state=42)\n",
        "clf.fit(X_train, y_train)\n",
        "\n",
        "# Predict\n",
        "y_pred = clf.predict(X_test)\n",
        "\n",
        "# Evaluation\n",
        "print(\"Accuracy:\", accuracy_score(y_test, y_pred))\n",
        "print(\"Precision:\", precision_score(y_test, y_pred, average='macro'))\n",
        "print(\"Recall:\", recall_score(y_test, y_pred, average='macro'))\n",
        "\n",
        "# ================================\n",
        "# 2️⃣ TensorFlow - Neural Network\n",
        "# ================================\n",
        "print(\"\\n=== TensorFlow ===\")\n",
        "\n",
        "import tensorflow as tf\n",
        "from tensorflow.keras.models import Sequential\n",
        "from tensorflow.keras.layers import Dense\n",
        "from tensorflow.keras.utils import to_categorical\n",
        "\n",
        "y_tf_encoded = to_categorical(y_encoded)\n",
        "X_train_tf, X_test_tf, y_train_tf, y_test_tf = train_test_split(X, y_tf_encoded, test_size=0.2, random_state=42)\n",
        "\n",
        "model = Sequential([\n",
        "    Dense(10, input_shape=(4,), activation='relu'),\n",
        "    Dense(3, activation='softmax')\n",
        "])\n",
        "\n",
        "model.compile(optimizer='adam', loss='categorical_crossentropy', metrics=['accuracy'])\n",
        "model.fit(X_train_tf, y_train_tf, epochs=50, verbose=0)\n",
        "\n",
        "# Predict\n",
        "y_pred_probs = model.predict(X_test_tf)\n",
        "y_pred_tf = np.argmax(y_pred_probs, axis=1)\n",
        "y_true_tf = np.argmax(y_test_tf, axis=1)\n",
        "\n",
        "# Evaluation\n",
        "print(\"Accuracy:\", accuracy_score(y_true_tf, y_pred_tf))\n",
        "print(\"Precision:\", precision_score(y_true_tf, y_pred_tf, average='macro'))\n",
        "print(\"Recall:\", recall_score(y_true_tf, y_pred_tf, average='macro'))\n",
        "\n",
        "# ================================\n",
        "# 3️⃣ PyTorch - Neural Network\n",
        "# ================================\n",
        "print(\"\\n=== PyTorch ===\")\n",
        "\n",
        "import torch\n",
        "import torch.nn as nn\n",
        "import torch.optim as optim\n",
        "\n",
        "X_train_pt, X_test_pt, y_train_pt, y_test_pt = train_test_split(X, y_encoded, test_size=0.2, random_state=42)\n",
        "X_train_pt = torch.FloatTensor(X_train_pt.values)\n",
        "X_test_pt = torch.FloatTensor(X_test_pt.values)\n",
        "y_train_pt = torch.LongTensor(y_train_pt)\n",
        "y_test_pt = torch.LongTensor(y_test_pt)\n",
        "\n",
        "class IrisNet(nn.Module):\n",
        "    def __init__(self):\n",
        "        super(IrisNet, self).__init__()\n",
        "        self.fc = nn.Sequential(\n",
        "            nn.Linear(4, 10),\n",
        "            nn.ReLU(),\n",
        "            nn.Linear(10, 3)\n",
        "        )\n",
        "    def forward(self, x):\n",
        "        return self.fc(x)\n",
        "\n",
        "model_pt = IrisNet()\n",
        "criterion = nn.CrossEntropyLoss()\n",
        "optimizer = optim.Adam(model_pt.parameters(), lr=0.01)\n",
        "\n",
        "# Training\n",
        "for epoch in range(100):\n",
        "    optimizer.zero_grad()\n",
        "    outputs = model_pt(X_train_pt)\n",
        "    loss = criterion(outputs, y_train_pt)\n",
        "    loss.backward()\n",
        "    optimizer.step()\n",
        "\n",
        "# Prediction\n",
        "with torch.no_grad():\n",
        "    y_pred_pt = model_pt(X_test_pt)\n",
        "    y_pred_classes_pt = torch.argmax(y_pred_pt, dim=1)\n",
        "\n",
        "# Evaluation\n",
        "print(\"Accuracy:\", accuracy_score(y_test_pt, y_pred_classes_pt))\n",
        "print(\"Precision:\", precision_score(y_test_pt, y_pred_classes_pt, average='macro'))\n",
        "print(\"Recall:\", recall_score(y_test_pt, y_pred_classes_pt, average='macro'))"
      ]
    },
    {
      "cell_type": "markdown",
      "source": [
        "# 📘 Comparative Analysis: Scikit-learn vs TensorFlow\n",
        "\n",
        "| Feature              | Scikit-learn                         | TensorFlow                             |\n",
        "|----------------------|--------------------------------------|----------------------------------------|\n",
        "| **Type**             | Machine Learning library (classical ML) | Deep Learning framework                |\n",
        "| **Primary Use**      | Quick models: regression, classification | Neural networks, CNNs, NLP, large-scale models |\n",
        "| **Learning Curve**   | Very easy to learn                   | Steeper, more flexible                 |\n",
        "| **Deployment**       | Joblib, ONNX                         | TF Lite, TF Serving, TensorFlow.js     |\n",
        "| **Community Support**| Huge for ML beginners                | Very active, cutting-edge AI research  |\n",
        "| **Best For**         | Tabular data, quick experimentation  | Deep learning tasks, production-ready systems |\n",
        "\n",
        "### ✅ Summary\n",
        "- Scikit-learn is fast and perfect for classical ML tasks (e.g., Iris classification).\n",
        "- TensorFlow is ideal when working with images, sequences, or large datasets (e.g., MNIST, CNNs)."
      ],
      "metadata": {
        "id": "W2_NUXk5_BGD"
      }
    },
    {
      "cell_type": "code",
      "source": [
        "# Task 2: Deep Learning with TensorFlow on MNIST\n",
        "\n",
        "import tensorflow as tf\n",
        "from tensorflow.keras import layers, models\n",
        "import matplotlib.pyplot as plt\n",
        "import numpy as np\n",
        "\n",
        "# 1. Load MNIST dataset\n",
        "(x_train, y_train), (x_test, y_test) = tf.keras.datasets.mnist.load_data()\n",
        "\n",
        "# 2. Preprocess the data\n",
        "x_train = x_train.reshape(-1, 28, 28, 1).astype(\"float32\") / 255.0\n",
        "x_test = x_test.reshape(-1, 28, 28, 1).astype(\"float32\") / 255.0\n",
        "\n",
        "# 3. Build CNN model\n",
        "model = models.Sequential([\n",
        "    layers.Conv2D(32, (3, 3), activation='relu', input_shape=(28, 28, 1)),\n",
        "    layers.MaxPooling2D(2, 2),\n",
        "    layers.Conv2D(64, (3, 3), activation='relu'),\n",
        "    layers.MaxPooling2D(2, 2),\n",
        "    layers.Flatten(),\n",
        "    layers.Dense(128, activation='relu'),\n",
        "    layers.Dense(10, activation='softmax')\n",
        "])\n",
        "\n",
        "# 4. Compile the model\n",
        "model.compile(optimizer='adam',\n",
        "              loss='sparse_categorical_crossentropy',\n",
        "              metrics=['accuracy'])\n",
        "\n",
        "# 5. Train the model\n",
        "history = model.fit(x_train, y_train, epochs=5, validation_split=0.1)\n",
        "\n",
        "# 6. Evaluate on test set\n",
        "test_loss, test_acc = model.evaluate(x_test, y_test)\n",
        "print(f\"\\n✅ Test accuracy: {test_acc * 100:.2f}%\")\n",
        "\n",
        "# 7. Visualize predictions on 5 sample images\n",
        "def visualize_predictions(model, x_test, y_test):\n",
        "    plt.figure(figsize=(10, 4))\n",
        "    for i in range(5):\n",
        "        idx = np.random.randint(0, len(x_test))\n",
        "        img = x_test[idx]\n",
        "        true_label = y_test[idx]\n",
        "        pred = np.argmax(model.predict(img.reshape(1, 28, 28, 1)), axis=1)[0]\n",
        "\n",
        "        plt.subplot(1, 5, i + 1)\n",
        "        plt.imshow(img.reshape(28, 28), cmap='gray')\n",
        "        plt.title(f\"True: {true_label}\\nPred: {pred}\")\n",
        "        plt.axis('off')\n",
        "    plt.tight_layout()\n",
        "    plt.show()\n",
        "\n",
        "visualize_predictions(model, x_test, y_test)"
      ],
      "metadata": {
        "colab": {
          "base_uri": "https://localhost:8080/",
          "height": 664
        },
        "id": "uiymAyjOlW8i",
        "outputId": "bda43ec0-437c-42b0-af27-e301136ed01b"
      },
      "execution_count": null,
      "outputs": [
        {
          "output_type": "stream",
          "name": "stdout",
          "text": [
            "Downloading data from https://storage.googleapis.com/tensorflow/tf-keras-datasets/mnist.npz\n",
            "\u001b[1m11490434/11490434\u001b[0m \u001b[32m━━━━━━━━━━━━━━━━━━━━\u001b[0m\u001b[37m\u001b[0m \u001b[1m1s\u001b[0m 0us/step\n"
          ]
        },
        {
          "output_type": "stream",
          "name": "stderr",
          "text": [
            "/usr/local/lib/python3.11/dist-packages/keras/src/layers/convolutional/base_conv.py:107: UserWarning: Do not pass an `input_shape`/`input_dim` argument to a layer. When using Sequential models, prefer using an `Input(shape)` object as the first layer in the model instead.\n",
            "  super().__init__(activity_regularizer=activity_regularizer, **kwargs)\n"
          ]
        },
        {
          "output_type": "stream",
          "name": "stdout",
          "text": [
            "Epoch 1/5\n",
            "\u001b[1m1688/1688\u001b[0m \u001b[32m━━━━━━━━━━━━━━━━━━━━\u001b[0m\u001b[37m\u001b[0m \u001b[1m46s\u001b[0m 26ms/step - accuracy: 0.8991 - loss: 0.3124 - val_accuracy: 0.9855 - val_loss: 0.0513\n",
            "Epoch 2/5\n",
            "\u001b[1m1688/1688\u001b[0m \u001b[32m━━━━━━━━━━━━━━━━━━━━\u001b[0m\u001b[37m\u001b[0m \u001b[1m82s\u001b[0m 26ms/step - accuracy: 0.9854 - loss: 0.0463 - val_accuracy: 0.9883 - val_loss: 0.0414\n",
            "Epoch 3/5\n",
            "\u001b[1m1688/1688\u001b[0m \u001b[32m━━━━━━━━━━━━━━━━━━━━\u001b[0m\u001b[37m\u001b[0m \u001b[1m81s\u001b[0m 26ms/step - accuracy: 0.9916 - loss: 0.0284 - val_accuracy: 0.9877 - val_loss: 0.0443\n",
            "Epoch 4/5\n",
            "\u001b[1m1688/1688\u001b[0m \u001b[32m━━━━━━━━━━━━━━━━━━━━\u001b[0m\u001b[37m\u001b[0m \u001b[1m84s\u001b[0m 27ms/step - accuracy: 0.9942 - loss: 0.0185 - val_accuracy: 0.9888 - val_loss: 0.0389\n",
            "Epoch 5/5\n",
            "\u001b[1m1688/1688\u001b[0m \u001b[32m━━━━━━━━━━━━━━━━━━━━\u001b[0m\u001b[37m\u001b[0m \u001b[1m81s\u001b[0m 26ms/step - accuracy: 0.9953 - loss: 0.0155 - val_accuracy: 0.9910 - val_loss: 0.0345\n",
            "\u001b[1m313/313\u001b[0m \u001b[32m━━━━━━━━━━━━━━━━━━━━\u001b[0m\u001b[37m\u001b[0m \u001b[1m2s\u001b[0m 7ms/step - accuracy: 0.9881 - loss: 0.0363\n",
            "\n",
            "✅ Test accuracy: 99.06%\n",
            "\u001b[1m1/1\u001b[0m \u001b[32m━━━━━━━━━━━━━━━━━━━━\u001b[0m\u001b[37m\u001b[0m \u001b[1m0s\u001b[0m 92ms/step\n",
            "\u001b[1m1/1\u001b[0m \u001b[32m━━━━━━━━━━━━━━━━━━━━\u001b[0m\u001b[37m\u001b[0m \u001b[1m0s\u001b[0m 38ms/step\n",
            "\u001b[1m1/1\u001b[0m \u001b[32m━━━━━━━━━━━━━━━━━━━━\u001b[0m\u001b[37m\u001b[0m \u001b[1m0s\u001b[0m 37ms/step\n",
            "\u001b[1m1/1\u001b[0m \u001b[32m━━━━━━━━━━━━━━━━━━━━\u001b[0m\u001b[37m\u001b[0m \u001b[1m0s\u001b[0m 38ms/step\n",
            "\u001b[1m1/1\u001b[0m \u001b[32m━━━━━━━━━━━━━━━━━━━━\u001b[0m\u001b[37m\u001b[0m \u001b[1m0s\u001b[0m 37ms/step\n"
          ]
        },
        {
          "output_type": "display_data",
          "data": {
            "text/plain": [
              "<Figure size 1000x400 with 5 Axes>"
            ],
            "image/png": "[encoded data removed]"
          },
          "metadata": {}
        }
      ]
    },
    {
      "cell_type": "markdown",
      "source": [
        "# 🛠️ Buggy Code Debugger – TensorFlow Classification\n",
        "\n",
        "This section demonstrates a simple TensorFlow neural network that contains common **mistakes beginners make**.\n",
        "\n",
        "## ❌ Buggy Code Issues:\n",
        "| Problem | Explanation |\n",
        "|--------|-------------|\n",
        "| ❌ No `softmax` activation on final layer | This prevents outputs from being proper class probabilities. |\n",
        "| ❌ Wrong loss function (`mse`) | MSE is used for regression, not classification. |\n",
        "| ❌ Data not defined | Code tries to train without loading or preparing any dataset (`x_train`, `y_train` are undefined). |\n",
        "\n",
        "We'll fix this by:\n",
        "- Loading the MNIST dataset\n",
        "- Preprocessing it correctly\n",
        "- Using a proper model architecture for classification"
      ],
      "metadata": {
        "id": "-RCt4540CQFE"
      }
    },
    {
      "cell_type": "code",
      "source": [
        "\n",
        "# ❌ Buggy Code Example (Do not run)\n",
        "import tensorflow as tf\n",
        "\n",
        "model = tf.keras.Sequential([\n",
        "    tf.keras.layers.Dense(10, input_shape=(784,), activation='relu'),\n",
        "    tf.keras.layers.Dense(10)  # ❌ No activation like softmax\n",
        "])\n",
        "\n",
        "# ❌ Wrong loss for classification\n",
        "model.compile(optimizer='adam', loss='mse', metrics=['accuracy'])\n",
        "\n",
        "# ❌ Data not defined\n",
        "model.fit(x_train, y_train, epochs=5)  # x_train and y_train are undefined\n",
        "x_train not defined"
      ],
      "metadata": {
        "id": "lNvVuoOr_us9"
      },
      "execution_count": null,
      "outputs": []
    },
    {
      "cell_type": "markdown",
      "source": [
        "# ✅ Fixed Version: TensorFlow Neural Network for Classification\n",
        "\n",
        "This corrected version:\n",
        "- Loads the MNIST dataset\n",
        "- Flattens and normalizes image input data\n",
        "- One-hot encodes the target labels for multi-class classification\n",
        "- Adds `softmax` activation in the output layer\n",
        "- Uses `categorical_crossentropy` as the correct loss function"
      ],
      "metadata": {
        "id": "czANO1BXC5VY"
      }
    },
    {
      "cell_type": "code",
      "source": [
        "\n",
        "# ✅ Import required libraries\n",
        "from tensorflow.keras.datasets import mnist\n",
        "from tensorflow.keras.utils import to_categorical\n",
        "import tensorflow as tf\n",
        "\n",
        "# ✅ Step 1: Load the MNIST handwritten digits dataset\n",
        "(x_train, y_train), (x_test, y_test) = mnist.load_data()\n",
        "\n",
        "# ✅ Step 2: Flatten the 28x28 images into 784-length vectors and normalize pixel values\n",
        "x_train = x_train.reshape(-1, 784).astype(\"float32\") / 255.0\n",
        "x_test = x_test.reshape(-1, 784).astype(\"float32\") / 255.0\n",
        "\n",
        "# ✅ Step 3: Convert integer labels (0–9) into one-hot encoded vectors\n",
        "y_train_cat = to_categorical(y_train)\n",
        "y_test_cat = to_categorical(y_test)\n",
        "\n",
        "# ✅ Step 4: Build the neural network model\n",
        "model = tf.keras.Sequential([\n",
        "    tf.keras.layers.Dense(128, input_shape=(784,), activation='relu'),  # Hidden layer with ReLU\n",
        "    tf.keras.layers.Dense(10, activation='softmax')  # Output layer with softmax for classification\n",
        "])\n",
        "\n",
        "# ✅ Step 5: Compile the model with the correct loss function and optimizer\n",
        "model.compile(optimizer='adam', loss='categorical_crossentropy', metrics=['accuracy'])\n",
        "\n",
        "# ✅ Step 6: Train the model\n",
        "model.fit(x_train, y_train_cat, epochs=5, validation_split=0.1)"
      ],
      "metadata": {
        "id": "gOskDkrC_7RV",
        "colab": {
          "base_uri": "https://localhost:8080/"
        },
        "outputId": "bd42db66-6ea9-4252-df11-4f3dd6708273"
      },
      "execution_count": 1,
      "outputs": [
        {
          "output_type": "stream",
          "name": "stdout",
          "text": [
            "Downloading data from https://storage.googleapis.com/tensorflow/tf-keras-datasets/mnist.npz\n",
            "\u001b[1m11490434/11490434\u001b[0m \u001b[32m━━━━━━━━━━━━━━━━━━━━\u001b[0m\u001b[37m\u001b[0m \u001b[1m0s\u001b[0m 0us/step\n"
          ]
        },
        {
          "output_type": "stream",
          "name": "stderr",
          "text": [
            "/usr/local/lib/python3.11/dist-packages/keras/src/layers/core/dense.py:87: UserWarning: Do not pass an `input_shape`/`input_dim` argument to a layer. When using Sequential models, prefer using an `Input(shape)` object as the first layer in the model instead.\n",
            "  super().__init__(activity_regularizer=activity_regularizer, **kwargs)\n"
          ]
        },
        {
          "output_type": "stream",
          "name": "stdout",
          "text": [
            "Epoch 1/5\n",
            "\u001b[1m1688/1688\u001b[0m \u001b[32m━━━━━━━━━━━━━━━━━━━━\u001b[0m\u001b[37m\u001b[0m \u001b[1m16s\u001b[0m 7ms/step - accuracy: 0.8676 - loss: 0.4579 - val_accuracy: 0.9647 - val_loss: 0.1215\n",
            "Epoch 2/5\n",
            "\u001b[1m1688/1688\u001b[0m \u001b[32m━━━━━━━━━━━━━━━━━━━━\u001b[0m\u001b[37m\u001b[0m \u001b[1m7s\u001b[0m 4ms/step - accuracy: 0.9630 - loss: 0.1249 - val_accuracy: 0.9707 - val_loss: 0.1012\n",
            "Epoch 3/5\n",
            "\u001b[1m1688/1688\u001b[0m \u001b[32m━━━━━━━━━━━━━━━━━━━━\u001b[0m\u001b[37m\u001b[0m \u001b[1m9s\u001b[0m 3ms/step - accuracy: 0.9738 - loss: 0.0855 - val_accuracy: 0.9758 - val_loss: 0.0862\n",
            "Epoch 4/5\n",
            "\u001b[1m1688/1688\u001b[0m \u001b[32m━━━━━━━━━━━━━━━━━━━━\u001b[0m\u001b[37m\u001b[0m \u001b[1m10s\u001b[0m 3ms/step - accuracy: 0.9823 - loss: 0.0583 - val_accuracy: 0.9745 - val_loss: 0.0857\n",
            "Epoch 5/5\n",
            "\u001b[1m1688/1688\u001b[0m \u001b[32m━━━━━━━━━━━━━━━━━━━━\u001b[0m\u001b[37m\u001b[0m \u001b[1m10s\u001b[0m 4ms/step - accuracy: 0.9864 - loss: 0.0452 - val_accuracy: 0.9765 - val_loss: 0.0836\n"
          ]
        },
        {
          "output_type": "execute_result",
          "data": {
            "text/plain": [
              "<keras.src.callbacks.history.History at 0x7c839d83e610>"
            ]
          },
          "metadata": {},
          "execution_count": 1
        }
      ]
    },
    {
      "cell_type": "markdown",
      "source": [
        "# ⚖️ Ethical Analysis of AI Systems\n",
        "\n",
        "### 1. 🔍 Bias and Fairness\n",
        "AI systems may inherit biases from the data (e.g., gender, race). Example: A sentiment analysis model trained on toxic forums may unfairly score neutral posts from minorities as negative.\n",
        "\n",
        "**Solution**: Use diverse training datasets, perform fairness audits, and retrain with debiased data.\n",
        "\n",
        "---\n",
        "\n",
        "### 2. 🔐 Privacy & Data Use\n",
        "Training models on personal or sensitive data (health, location, voice) without consent violates ethical norms.\n",
        "\n",
        "**Solution**: Apply anonymization, secure storage, and user consent policies. Use federated learning when possible.\n",
        "\n",
        "---\n",
        "\n",
        "### 3. 🧠 Explainability\n",
        "Deep learning models often operate as \"black boxes\" which makes trust and debugging difficult.\n",
        "\n",
        "**Solution**: Use explainability tools like SHAP, LIME, or XAI dashboards to make decisions transparent.\n",
        "\n",
        "---\n",
        "\n",
        "### 4. 🌱 Environmental Impact\n",
        "Large models (e.g., GPT, BERT) consume massive energy. Training them without optimization harms sustainability.\n",
        "\n",
        "**Solution**: Use transfer learning, pruning, quantization, and efficient hardware (TPUs, edge ML).\n",
        "\n",
        "---\n",
        "\n",
        "### ✅ Responsible AI Practices\n",
        "- Involve interdisciplinary teams\n",
        "- Set AI ethics guidelines (e.g., Google's Responsible AI)\n",
        "- Include human-in-the-loop decision-making"
      ],
      "metadata": {
        "id": "D9Qkkmo-AEdU"
      }
    }
  ]
}